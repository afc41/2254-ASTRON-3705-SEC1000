{
 "cells": [
  {
   "cell_type": "code",
   "execution_count": 1,
   "metadata": {
    "scrolled": false
   },
   "outputs": [],
   "source": [
    "%matplotlib inline   \n",
    "                     # this sets up matplotlib to make plots show up in the notebook\n",
    "import numpy as np   # imports the numpy package, abbreviated as np\n",
    "import matplotlib    # imports the matplotlib package for making plots\n",
    "import matplotlib.pyplot as plt    # imports the part of matplotlib we use most,\n",
    "                                   #abbreviated as plt"
   ]
  },
  {
   "cell_type": "code",
   "execution_count": 2,
   "metadata": {
    "scrolled": false
   },
   "outputs": [],
   "source": [
    "import scipy.stats as stats\n",
    "import numpy.random as random\n",
    "import scipy.interpolate as interpol\n",
    "import scipy.integrate as integrate"
   ]
  },
  {
   "cell_type": "markdown",
   "metadata": {},
   "source": [
    "# Test case for today: log-normal data\n",
    "\n",
    "Let's create $10^5$ values distributed as a log-normal: $x \\sim e^{N(0,1)}$"
   ]
  },
  {
   "cell_type": "code",
   "execution_count": 3,
   "metadata": {
    "scrolled": false
   },
   "outputs": [],
   "source": [
    "data=np.exp(random.randn(100_000))"
   ]
  },
  {
   "cell_type": "markdown",
   "metadata": {},
   "source": [
    "__In the below code box, plot a histogram of the array `data` as one figure and a histogram of the log of the data as a second figure.  Use 100 bins for each plot. Note:__ if you precede each plotting command by  `plt.figure()` it will make the plot on a separate set of axes, even if the code is in the same cell..."
   ]
  },
  {
   "cell_type": "code",
   "execution_count": 18,
   "metadata": {
    "scrolled": false
   },
   "outputs": [
    {
     "data": {
      "image/png": "[encoded data removed]",
      "text/plain": [
       "<Figure size 640x480 with 1 Axes>"
      ]
     },
     "metadata": {},
     "output_type": "display_data"
    }
   ],
   "source": [
    "fig1 = plt.figure()\n",
    "n,bins,patches=plt.hist(data,bins=100,histtype='step') \n",
    "fig.savefig('hist_100bins.png')"
   ]
  },
  {
   "cell_type": "code",
   "execution_count": 17,
   "metadata": {},
   "outputs": [
    {
     "data": {
      "image/png": "[encoded data removed]",
      "text/plain": [
       "<Figure size 640x480 with 1 Axes>"
      ]
     },
     "metadata": {},
     "output_type": "display_data"
    }
   ],
   "source": [
    "fig = plt.figure()\n",
    "n,bins,patches=plt.hist(data,bins=100,histtype='step') \n",
    "plt.yscale('log')\n",
    "fig.savefig('hist_100bins_log.png')"
   ]
  },
  {
   "cell_type": "markdown",
   "metadata": {},
   "source": [
    "Calculating the mean:"
   ]
  },
  {
   "cell_type": "code",
   "execution_count": 5,
   "metadata": {
    "scrolled": false
   },
   "outputs": [
    {
     "name": "stdout",
     "output_type": "stream",
     "text": [
      "1.6478392045052037\n",
      "1.6478392045052037\n"
     ]
    }
   ],
   "source": [
    "print(np.mean(data))\n",
    "print( data.mean() )"
   ]
  },
  {
   "cell_type": "markdown",
   "metadata": {},
   "source": [
    "Calculating the median:"
   ]
  },
  {
   "cell_type": "code",
   "execution_count": 6,
   "metadata": {
    "scrolled": false
   },
   "outputs": [
    {
     "name": "stdout",
     "output_type": "stream",
     "text": [
      "1.0001133557128283\n"
     ]
    }
   ],
   "source": [
    "print(np.median(data))"
   ]
  },
  {
   "cell_type": "markdown",
   "metadata": {},
   "source": [
    "Calculating the mode:"
   ]
  },
  {
   "cell_type": "code",
   "execution_count": 13,
   "metadata": {
    "scrolled": false
   },
   "outputs": [
    {
     "name": "stdout",
     "output_type": "stream",
     "text": [
      "Unrounded: ModeResult(mode=np.float64(0.015635546770862863), count=np.int64(1))\n",
      "Rounded: ModeResult(mode=np.float64(0.3), count=np.int64(687))\n"
     ]
    }
   ],
   "source": [
    "print(f'Unrounded: {stats.mode(data)}')\n",
    "\n",
    "data_r = np.round(data,decimals=2)\n",
    "print(f'Rounded: {stats.mode(data_r)}' )"
   ]
  },
  {
   "cell_type": "code",
   "execution_count": 14,
   "metadata": {
    "scrolled": false
   },
   "outputs": [
    {
     "name": "stdout",
     "output_type": "stream",
     "text": [
      "0.30000000000000004\n"
     ]
    }
   ],
   "source": [
    "bins = np.linspace(-0.005,10.005,1002)\n",
    "counts,edges=np.histogram(data,bins=bins)\n",
    "whmax=np.argmax(counts)\n",
    "mode=(edges[whmax]+edges[whmax+1])/2\n",
    "print(mode)"
   ]
  },
  {
   "cell_type": "markdown",
   "metadata": {},
   "source": [
    "## Creating a mode function\n",
    "\n",
    "Let's define a function which can calculate the mode for any binning we might choose at the time we run it:"
   ]
  },
  {
   "cell_type": "code",
   "execution_count": 19,
   "metadata": {
    "scrolled": false
   },
   "outputs": [],
   "source": [
    "def mode2(data,**kwargs):\n",
    "# note: provide bins and (optionally) range keywords \n",
    "# as used in np.histogram to not use the\n",
    "# defaults of np.histogram (10 bins, full range).\n",
    "# as those are unlikely to be what you want\n",
    "    counts,edges=np.histogram(data,**kwargs)\n",
    "    whmax=np.argmax(counts)\n",
    "    mode=(edges[whmax]+edges[whmax+1])/2\n",
    "    return(mode)"
   ]
  },
  {
   "cell_type": "markdown",
   "metadata": {},
   "source": [
    "__Use the `mode2` function to calculate the mode for at least 3 different binnings of the data (differing in bin sizes).__  Since we used `**kwargs` we can include the `bins=` keyword within the `mode2` function call, and it gets passed to `np.histogram`."
   ]
  },
  {
   "cell_type": "code",
   "execution_count": 20,
   "metadata": {
    "scrolled": false
   },
   "outputs": [
    {
     "name": "stdout",
     "output_type": "stream",
     "text": [
      "4.63053778852521\n"
     ]
    }
   ],
   "source": [
    "print(mode2(data))"
   ]
  },
  {
   "cell_type": "code",
   "execution_count": 21,
   "metadata": {},
   "outputs": [
    {
     "name": "stdout",
     "output_type": "stream",
     "text": [
      "0.4771257709462976\n"
     ]
    }
   ],
   "source": [
    "print(mode2(data,bins=100))"
   ]
  },
  {
   "cell_type": "code",
   "execution_count": 22,
   "metadata": {},
   "outputs": [
    {
     "name": "stdout",
     "output_type": "stream",
     "text": [
      "0.707870883034015\n"
     ]
    }
   ],
   "source": [
    "print(mode2(data,bins=200))"
   ]
  },
  {
   "cell_type": "code",
   "execution_count": 23,
   "metadata": {},
   "outputs": [
    {
     "name": "stdout",
     "output_type": "stream",
     "text": [
      "0.3232956962211527\n"
     ]
    }
   ],
   "source": [
    "print(mode2(data,bins=150))"
   ]
  },
  {
   "cell_type": "code",
   "execution_count": 24,
   "metadata": {},
   "outputs": [
    {
     "name": "stdout",
     "output_type": "stream",
     "text": [
      "0.34527142118188764\n"
     ]
    }
   ],
   "source": [
    "print(mode2(data,bins=140))"
   ]
  },
  {
   "cell_type": "code",
   "execution_count": 25,
   "metadata": {},
   "outputs": [
    {
     "name": "stdout",
     "output_type": "stream",
     "text": [
      "0.30406693688050956\n"
     ]
    }
   ],
   "source": [
    "print(mode2(data,bins=160)) # this is the best one for me \n",
    "# can also be a range or array which would leave to even better accuracy"
   ]
  },
  {
   "cell_type": "code",
   "execution_count": 26,
   "metadata": {},
   "outputs": [
    {
     "name": "stdout",
     "output_type": "stream",
     "text": [
      "0.2871003845211186\n"
     ]
    }
   ],
   "source": [
    "print(mode2(data,bins=170))"
   ]
  },
  {
   "cell_type": "markdown",
   "metadata": {},
   "source": [
    "# Calculating measures of scale\n",
    "\n",
    "First, the standard deviation:\n"
   ]
  },
  {
   "cell_type": "code",
   "execution_count": 27,
   "metadata": {
    "scrolled": false
   },
   "outputs": [
    {
     "name": "stdout",
     "output_type": "stream",
     "text": [
      "2.1600376388281544 2.1600484390973507\n",
      "0.9983046758806827 0.9983096674414988\n"
     ]
    }
   ],
   "source": [
    "print( np.std(data),np.std(data,ddof=1) )\n",
    "print( np.std(np.log(data)),np.std(np.log(data),ddof=1) )"
   ]
  },
  {
   "cell_type": "markdown",
   "metadata": {},
   "source": [
    "### Now, the average absolute deviation.  \n",
    "\n",
    "__Discuss with your group: why do these values agree or not with the standard deviation for the log-normal or normally-distributed data?__\n"
   ]
  },
  {
   "cell_type": "code",
   "execution_count": 28,
   "metadata": {
    "scrolled": false
   },
   "outputs": [
    {
     "name": "stdout",
     "output_type": "stream",
     "text": [
      "Normalized Average Absolute Deviation: 1.57702\n",
      "Normalized Average Absolute Deviation of log(data): 0.99880\n"
     ]
    }
   ],
   "source": [
    "normavgabsdev = np.mean(np.abs(data-data.mean()))/0.7979\n",
    "mnlog = np.mean(np.log(data) )\n",
    "normavgabsdev_log = np.mean(np.abs( np.log(data)-mnlog) )/0.7979\n",
    "\n",
    "print(f'Normalized Average Absolute Deviation: {normavgabsdev:.5f}')\n",
    "print(f'Normalized Average Absolute Deviation of log(data): {normavgabsdev_log:.5f}')"
   ]
  },
  {
   "cell_type": "markdown",
   "metadata": {},
   "source": [
    "### Calculating the MAD:\n",
    "\n",
    "__Discuss with your group: why do these values agree or not with the standard deviation?__\n"
   ]
  },
  {
   "cell_type": "code",
   "execution_count": 29,
   "metadata": {
    "scrolled": false
   },
   "outputs": [
    {
     "name": "stdout",
     "output_type": "stream",
     "text": [
      "Normalized Median Absolute Deviation: 0.88783\n",
      "Scipy Normalized Median Absolute Deviation: 0.88783\n",
      "Normalized Median Absolute Deviation of log(data): 0.99533\n"
     ]
    }
   ],
   "source": [
    "meddata=np.median(data)\n",
    "normmad = np.median(np.abs(data-meddata))/0.6745\n",
    "normmad_log = np.median(abs(np.log(data)-np.log(meddata)))/0.6745\n",
    "normmad_scipy = stats.median_abs_deviation(data,scale='normal')\n",
    "\n",
    "print(f'Normalized Median Absolute Deviation: {normmad:.5f}')\n",
    "print(f'Scipy Normalized Median Absolute Deviation: {normmad:.5f}')\n",
    "print(f'Normalized Median Absolute Deviation of log(data): {normmad_log:.5f}')"
   ]
  },
  {
   "cell_type": "markdown",
   "metadata": {},
   "source": [
    "### Calculating the IQR:\n",
    "\n",
    "__Discuss with your group: why do these values agree or not with the standard deviation?__"
   ]
  },
  {
   "cell_type": "code",
   "execution_count": 30,
   "metadata": {
    "scrolled": false
   },
   "outputs": [
    {
     "name": "stdout",
     "output_type": "stream",
     "text": [
      "Normalized IQR: 1.07676\n",
      "Normalized IQR of log(data): 0.99540\n"
     ]
    }
   ],
   "source": [
    "d25,d75 = np.percentile(data,[25,75])\n",
    "normiqr = (d75-d25)/1.349\n",
    "normiqr_log = (np.log(d75)-np.log(d25))/1.349\n",
    "\n",
    "\n",
    "print(f'Normalized IQR: {normiqr:.5f}')\n",
    "print(f'Normalized IQR of log(data): {normiqr_log:.5f}')"
   ]
  },
  {
   "cell_type": "markdown",
   "metadata": {},
   "source": [
    "# Results when averaging data together"
   ]
  },
  {
   "cell_type": "code",
   "execution_count": 31,
   "metadata": {
    "scrolled": false
   },
   "outputs": [],
   "source": [
    "nsims=int(1E5)\n",
    "navg=100\n",
    "data=random.randn(nsims,navg)\n",
    "\n",
    "# average each set of navg values\n",
    "means=np.mean(data,axis=1)"
   ]
  },
  {
   "cell_type": "markdown",
   "metadata": {},
   "source": [
    "- __Using the below code block, plot a histogram of the distribution of the means from each simulation, with binsize 0.01, over the range from -2 to +2 (what should you set the `bins` and `range` keywords to be for that?)__\n",
    "\n",
    "- __Determine the standard deviation of the array of means__"
   ]
  },
  {
   "cell_type": "code",
   "execution_count": 38,
   "metadata": {
    "scrolled": true
   },
   "outputs": [
    {
     "name": "stdout",
     "output_type": "stream",
     "text": [
      "0.09995389808740747 0.09995439786064621\n"
     ]
    },
    {
     "data": {
      "image/png": "[encoded data removed]",
      "text/plain": [
       "<Figure size 640x480 with 1 Axes>"
      ]
     },
     "metadata": {},
     "output_type": "display_data"
    }
   ],
   "source": [
    "plt.hist(means,bins=np.arange(-2,2 + 0.01,0.01))\n",
    "print( np.std(means),np.std(means,ddof=1) )"
   ]
  },
  {
   "cell_type": "code",
   "execution_count": 36,
   "metadata": {},
   "outputs": [
    {
     "data": {
      "text/plain": [
       "(array([  1.,   0.,   0.,   0.,   0.,   0.,   0.,   1.,   0.,   0.,   1.,\n",
       "          0.,   0.,   0.,   1.,   1.,   2.,   0.,   0.,   1.,   2.,   1.,\n",
       "          2.,   0.,   1.,   1.,   3.,   3.,   0.,   1.,   0.,   4.,   1.,\n",
       "          1.,   4.,   5.,   2.,   2.,   3.,   4.,   7.,   4.,   2.,   3.,\n",
       "          5.,   1.,   8.,   4.,  10.,  10.,  15.,   5.,   8.,  12.,  15.,\n",
       "         18.,  14.,  16.,  11.,  19.,  22.,  17.,  22.,  25.,  29.,  33.,\n",
       "         23.,  21.,  24.,  28.,  28.,  34.,  34.,  37.,  37.,  39.,  38.,\n",
       "         43.,  44.,  57.,  57.,  48.,  67.,  81.,  68.,  72.,  75.,  79.,\n",
       "         87.,  69.,  94., 111., 101.,  98., 129., 152., 123., 145., 135.,\n",
       "        147., 125., 162., 159., 171., 152., 192., 223., 200., 213., 214.,\n",
       "        242., 237., 265., 258., 259., 263., 275., 306., 323., 317., 341.,\n",
       "        388., 330., 370., 361., 379., 401., 385., 450., 486., 430., 502.,\n",
       "        472., 513., 500., 509., 535., 563., 542., 576., 608., 608., 596.,\n",
       "        630., 639., 647., 672., 740., 689., 723., 730., 708., 722., 721.,\n",
       "        788., 795., 821., 763., 859., 826., 860., 822., 853., 879., 903.,\n",
       "        876., 812., 890., 914., 913., 907., 899., 989., 845., 971., 922.,\n",
       "        909., 970., 937., 913., 982., 903., 972., 949., 927., 931., 959.,\n",
       "        928., 923., 972., 953., 872., 894., 890., 878., 924., 871., 884.,\n",
       "        803., 851., 861., 828., 840., 883., 825., 787., 812., 728., 755.,\n",
       "        817., 699., 694., 746., 706., 643., 720., 665., 675., 634., 635.,\n",
       "        629., 605., 608., 587., 541., 530., 545., 530., 483., 474., 522.,\n",
       "        468., 408., 449., 425., 403., 386., 399., 364., 359., 297., 333.,\n",
       "        346., 339., 331., 270., 263., 287., 287., 251., 251., 255., 241.,\n",
       "        217., 222., 191., 207., 198., 187., 174., 174., 164., 153., 143.,\n",
       "        135., 143., 121., 125., 119., 120., 104.,  83., 105.,  91.,  83.,\n",
       "         93.,  68.,  59.,  73.,  64.,  64.,  62.,  40.,  57.,  61.,  46.,\n",
       "         49.,  37.,  34.,  41.,  38.,  33.,  24.,  30.,  30.,  32.,  20.,\n",
       "         26.,  19.,  14.,  21.,  17.,  19.,  18.,  15.,  15.,  14.,  12.,\n",
       "         16.,   8.,  10.,   9.,   5.,  14.,   9.,  11.,   3.,   4.,   2.,\n",
       "          7.,   2.,   1.,   3.,   6.,   2.,   4.,   1.,   2.,   2.,   3.,\n",
       "          0.,   0.,   1.,   1.,   2.,   0.,   3.,   1.,   0.,   1.,   1.,\n",
       "          0.,   0.,   3.,   0.,   2.,   1.,   0.,   0.,   0.,   0.,   1.,\n",
       "          0.,   1.,   0.,   0.,   0.,   0.,   0.,   0.,   1.,   0.,   0.,\n",
       "          1.,   0.,   0.,   0.,   0.,   0.,   0.,   0.,   0.,   0.,   0.,\n",
       "          0.,   0.,   0.,   0.,   0.,   0.,   0.,   0.,   0.,   0.,   0.,\n",
       "          0.,   0.,   0.,   0.,   0.,   0.,   0.,   0.,   0.,   0.,   0.,\n",
       "          0.,   0.,   0.,   1.]),\n",
       " array([-4.26131898e-01, -4.23779682e-01, -4.21427467e-01, -4.19075251e-01,\n",
       "        -4.16723035e-01, -4.14370820e-01, -4.12018604e-01, -4.09666388e-01,\n",
       "        -4.07314173e-01, -4.04961957e-01, -4.02609741e-01, -4.00257526e-01,\n",
       "        -3.97905310e-01, -3.95553094e-01, -3.93200879e-01, -3.90848663e-01,\n",
       "        -3.88496448e-01, -3.86144232e-01, -3.83792016e-01, -3.81439801e-01,\n",
       "        -3.79087585e-01, -3.76735369e-01, -3.74383154e-01, -3.72030938e-01,\n",
       "        -3.69678722e-01, -3.67326507e-01, -3.64974291e-01, -3.62622075e-01,\n",
       "        -3.60269860e-01, -3.57917644e-01, -3.55565429e-01, -3.53213213e-01,\n",
       "        -3.50860997e-01, -3.48508782e-01, -3.46156566e-01, -3.43804350e-01,\n",
       "        -3.41452135e-01, -3.39099919e-01, -3.36747703e-01, -3.34395488e-01,\n",
       "        -3.32043272e-01, -3.29691056e-01, -3.27338841e-01, -3.24986625e-01,\n",
       "        -3.22634409e-01, -3.20282194e-01, -3.17929978e-01, -3.15577763e-01,\n",
       "        -3.13225547e-01, -3.10873331e-01, -3.08521116e-01, -3.06168900e-01,\n",
       "        -3.03816684e-01, -3.01464469e-01, -2.99112253e-01, -2.96760037e-01,\n",
       "        -2.94407822e-01, -2.92055606e-01, -2.89703390e-01, -2.87351175e-01,\n",
       "        -2.84998959e-01, -2.82646744e-01, -2.80294528e-01, -2.77942312e-01,\n",
       "        -2.75590097e-01, -2.73237881e-01, -2.70885665e-01, -2.68533450e-01,\n",
       "        -2.66181234e-01, -2.63829018e-01, -2.61476803e-01, -2.59124587e-01,\n",
       "        -2.56772371e-01, -2.54420156e-01, -2.52067940e-01, -2.49715724e-01,\n",
       "        -2.47363509e-01, -2.45011293e-01, -2.42659078e-01, -2.40306862e-01,\n",
       "        -2.37954646e-01, -2.35602431e-01, -2.33250215e-01, -2.30897999e-01,\n",
       "        -2.28545784e-01, -2.26193568e-01, -2.23841352e-01, -2.21489137e-01,\n",
       "        -2.19136921e-01, -2.16784705e-01, -2.14432490e-01, -2.12080274e-01,\n",
       "        -2.09728058e-01, -2.07375843e-01, -2.05023627e-01, -2.02671412e-01,\n",
       "        -2.00319196e-01, -1.97966980e-01, -1.95614765e-01, -1.93262549e-01,\n",
       "        -1.90910333e-01, -1.88558118e-01, -1.86205902e-01, -1.83853686e-01,\n",
       "        -1.81501471e-01, -1.79149255e-01, -1.76797039e-01, -1.74444824e-01,\n",
       "        -1.72092608e-01, -1.69740393e-01, -1.67388177e-01, -1.65035961e-01,\n",
       "        -1.62683746e-01, -1.60331530e-01, -1.57979314e-01, -1.55627099e-01,\n",
       "        -1.53274883e-01, -1.50922667e-01, -1.48570452e-01, -1.46218236e-01,\n",
       "        -1.43866020e-01, -1.41513805e-01, -1.39161589e-01, -1.36809373e-01,\n",
       "        -1.34457158e-01, -1.32104942e-01, -1.29752727e-01, -1.27400511e-01,\n",
       "        -1.25048295e-01, -1.22696080e-01, -1.20343864e-01, -1.17991648e-01,\n",
       "        -1.15639433e-01, -1.13287217e-01, -1.10935001e-01, -1.08582786e-01,\n",
       "        -1.06230570e-01, -1.03878354e-01, -1.01526139e-01, -9.91739231e-02,\n",
       "        -9.68217075e-02, -9.44694918e-02, -9.21172762e-02, -8.97650605e-02,\n",
       "        -8.74128449e-02, -8.50606293e-02, -8.27084136e-02, -8.03561980e-02,\n",
       "        -7.80039823e-02, -7.56517667e-02, -7.32995510e-02, -7.09473354e-02,\n",
       "        -6.85951197e-02, -6.62429041e-02, -6.38906884e-02, -6.15384728e-02,\n",
       "        -5.91862572e-02, -5.68340415e-02, -5.44818259e-02, -5.21296102e-02,\n",
       "        -4.97773946e-02, -4.74251789e-02, -4.50729633e-02, -4.27207476e-02,\n",
       "        -4.03685320e-02, -3.80163163e-02, -3.56641007e-02, -3.33118850e-02,\n",
       "        -3.09596694e-02, -2.86074538e-02, -2.62552381e-02, -2.39030225e-02,\n",
       "        -2.15508068e-02, -1.91985912e-02, -1.68463755e-02, -1.44941599e-02,\n",
       "        -1.21419442e-02, -9.78972859e-03, -7.43751295e-03, -5.08529730e-03,\n",
       "        -2.73308165e-03, -3.80866009e-04,  1.97134964e-03,  4.32356528e-03,\n",
       "         6.67578093e-03,  9.02799657e-03,  1.13802122e-02,  1.37324279e-02,\n",
       "         1.60846435e-02,  1.84368592e-02,  2.07890748e-02,  2.31412904e-02,\n",
       "         2.54935061e-02,  2.78457217e-02,  3.01979374e-02,  3.25501530e-02,\n",
       "         3.49023687e-02,  3.72545843e-02,  3.96068000e-02,  4.19590156e-02,\n",
       "         4.43112313e-02,  4.66634469e-02,  4.90156626e-02,  5.13678782e-02,\n",
       "         5.37200938e-02,  5.60723095e-02,  5.84245251e-02,  6.07767408e-02,\n",
       "         6.31289564e-02,  6.54811721e-02,  6.78333877e-02,  7.01856034e-02,\n",
       "         7.25378190e-02,  7.48900347e-02,  7.72422503e-02,  7.95944659e-02,\n",
       "         8.19466816e-02,  8.42988972e-02,  8.66511129e-02,  8.90033285e-02,\n",
       "         9.13555442e-02,  9.37077598e-02,  9.60599755e-02,  9.84121911e-02,\n",
       "         1.00764407e-01,  1.03116622e-01,  1.05468838e-01,  1.07821054e-01,\n",
       "         1.10173269e-01,  1.12525485e-01,  1.14877701e-01,  1.17229916e-01,\n",
       "         1.19582132e-01,  1.21934348e-01,  1.24286563e-01,  1.26638779e-01,\n",
       "         1.28990995e-01,  1.31343210e-01,  1.33695426e-01,  1.36047641e-01,\n",
       "         1.38399857e-01,  1.40752073e-01,  1.43104288e-01,  1.45456504e-01,\n",
       "         1.47808720e-01,  1.50160935e-01,  1.52513151e-01,  1.54865367e-01,\n",
       "         1.57217582e-01,  1.59569798e-01,  1.61922014e-01,  1.64274229e-01,\n",
       "         1.66626445e-01,  1.68978660e-01,  1.71330876e-01,  1.73683092e-01,\n",
       "         1.76035307e-01,  1.78387523e-01,  1.80739739e-01,  1.83091954e-01,\n",
       "         1.85444170e-01,  1.87796386e-01,  1.90148601e-01,  1.92500817e-01,\n",
       "         1.94853033e-01,  1.97205248e-01,  1.99557464e-01,  2.01909680e-01,\n",
       "         2.04261895e-01,  2.06614111e-01,  2.08966326e-01,  2.11318542e-01,\n",
       "         2.13670758e-01,  2.16022973e-01,  2.18375189e-01,  2.20727405e-01,\n",
       "         2.23079620e-01,  2.25431836e-01,  2.27784052e-01,  2.30136267e-01,\n",
       "         2.32488483e-01,  2.34840699e-01,  2.37192914e-01,  2.39545130e-01,\n",
       "         2.41897346e-01,  2.44249561e-01,  2.46601777e-01,  2.48953992e-01,\n",
       "         2.51306208e-01,  2.53658424e-01,  2.56010639e-01,  2.58362855e-01,\n",
       "         2.60715071e-01,  2.63067286e-01,  2.65419502e-01,  2.67771718e-01,\n",
       "         2.70123933e-01,  2.72476149e-01,  2.74828365e-01,  2.77180580e-01,\n",
       "         2.79532796e-01,  2.81885011e-01,  2.84237227e-01,  2.86589443e-01,\n",
       "         2.88941658e-01,  2.91293874e-01,  2.93646090e-01,  2.95998305e-01,\n",
       "         2.98350521e-01,  3.00702737e-01,  3.03054952e-01,  3.05407168e-01,\n",
       "         3.07759384e-01,  3.10111599e-01,  3.12463815e-01,  3.14816031e-01,\n",
       "         3.17168246e-01,  3.19520462e-01,  3.21872677e-01,  3.24224893e-01,\n",
       "         3.26577109e-01,  3.28929324e-01,  3.31281540e-01,  3.33633756e-01,\n",
       "         3.35985971e-01,  3.38338187e-01,  3.40690403e-01,  3.43042618e-01,\n",
       "         3.45394834e-01,  3.47747050e-01,  3.50099265e-01,  3.52451481e-01,\n",
       "         3.54803697e-01,  3.57155912e-01,  3.59508128e-01,  3.61860343e-01,\n",
       "         3.64212559e-01,  3.66564775e-01,  3.68916990e-01,  3.71269206e-01,\n",
       "         3.73621422e-01,  3.75973637e-01,  3.78325853e-01,  3.80678069e-01,\n",
       "         3.83030284e-01,  3.85382500e-01,  3.87734716e-01,  3.90086931e-01,\n",
       "         3.92439147e-01,  3.94791362e-01,  3.97143578e-01,  3.99495794e-01,\n",
       "         4.01848009e-01,  4.04200225e-01,  4.06552441e-01,  4.08904656e-01,\n",
       "         4.11256872e-01,  4.13609088e-01,  4.15961303e-01,  4.18313519e-01,\n",
       "         4.20665735e-01,  4.23017950e-01,  4.25370166e-01,  4.27722382e-01,\n",
       "         4.30074597e-01,  4.32426813e-01,  4.34779028e-01,  4.37131244e-01,\n",
       "         4.39483460e-01,  4.41835675e-01,  4.44187891e-01,  4.46540107e-01,\n",
       "         4.48892322e-01,  4.51244538e-01,  4.53596754e-01,  4.55948969e-01,\n",
       "         4.58301185e-01,  4.60653401e-01,  4.63005616e-01,  4.65357832e-01,\n",
       "         4.67710048e-01,  4.70062263e-01,  4.72414479e-01,  4.74766694e-01,\n",
       "         4.77118910e-01,  4.79471126e-01,  4.81823341e-01,  4.84175557e-01,\n",
       "         4.86527773e-01,  4.88879988e-01,  4.91232204e-01,  4.93584420e-01,\n",
       "         4.95936635e-01,  4.98288851e-01,  5.00641067e-01,  5.02993282e-01,\n",
       "         5.05345498e-01,  5.07697713e-01,  5.10049929e-01,  5.12402145e-01,\n",
       "         5.14754360e-01]),\n",
       " <BarContainer object of 400 artists>)"
      ]
     },
     "execution_count": 36,
     "metadata": {},
     "output_type": "execute_result"
    },
    {
     "data": {
      "image/png": "[encoded data removed]",
      "text/plain": [
       "<Figure size 640x480 with 1 Axes>"
      ]
     },
     "metadata": {},
     "output_type": "display_data"
    }
   ],
   "source": [
    "plt.hist(means,bins=400)"
   ]
  },
  {
   "cell_type": "markdown",
   "metadata": {},
   "source": [
    "- __Now, in the above code box, create a second set of simulations with `navg` = 9.  Plot the histogram of results from these simulations on top of the histogram for averaging 100 measurements.__\n",
    "\n",
    "__Discuss with your group: How do you explain the differences between the results (both qualitatively and quantitatively)? How does the scatter of the means scale with `navg`?__"
   ]
  },
  {
   "cell_type": "code",
   "execution_count": 45,
   "metadata": {
    "scrolled": true
   },
   "outputs": [
    {
     "name": "stdout",
     "output_type": "stream",
     "text": [
      "for navg=100:  0.09995389808740747 0.09995439786064621\n",
      "for navg=9:  0.3350520838509879 0.33505375912397173\n"
     ]
    },
    {
     "data": {
      "text/plain": [
       "<matplotlib.legend.Legend at 0x147a55450>"
      ]
     },
     "execution_count": 45,
     "metadata": {},
     "output_type": "execute_result"
    },
    {
     "data": {
      "image/png": "[encoded data removed]",
      "text/plain": [
       "<Figure size 640x480 with 1 Axes>"
      ]
     },
     "metadata": {},
     "output_type": "display_data"
    }
   ],
   "source": [
    "navg=9\n",
    "data_9=random.randn(nsims,navg)\n",
    "means_9=np.mean(data_9,axis=1)\n",
    "\n",
    "plt.hist(means,bins=np.arange(-2,2 + 0.01,0.01),label='navg=100')\n",
    "print( 'for navg=100: ',np.std(means),np.std(means,ddof=1) )\n",
    "\n",
    "plt.hist(means_9,bins=np.arange(-2,2 + 0.01,0.01),alpha=0.5,label='navg = 9')\n",
    "print( 'for navg=9: ', np.std(means_9),np.std(means_9,ddof=1) )\n",
    "plt.legend()"
   ]
  },
  {
   "cell_type": "markdown",
   "metadata": {},
   "source": [
    "# If you have extra time\n",
    "\n",
    "- Try a wide variety of binnings and explore how the mode of our lognormal data changes as the bin size does.\n",
    "\n",
    "- Create a dataset that is drawn from two different distributions:\n",
    "    - 90% of the time draw from a standard normal ($N(0,1)$)\n",
    "    - 10% of the time draw a value from a different distribution: $\\exp(N(0,1)$)\n",
    "\n",
    "    Calculate all of our measures of location and scale for this mixed dataset.  Which (if any) give you the expected values for a standard normal distribution?\n"
   ]
  },
  {
   "cell_type": "markdown",
   "metadata": {},
   "source": []
  }
 ],
 "metadata": {
  "anaconda-cloud": {},
  "kernelspec": {
   "display_name": "Stats_Python",
   "language": "python",
   "name": "python3"
  },
  "language_info": {
   "codemirror_mode": {
    "name": "ipython",
    "version": 3
   },
   "file_extension": ".py",
   "mimetype": "text/x-python",
   "name": "python",
   "nbconvert_exporter": "python",
   "pygments_lexer": "ipython3",
   "version": "3.13.1"
  }
 },
 "nbformat": 4,
 "nbformat_minor": 1
}
