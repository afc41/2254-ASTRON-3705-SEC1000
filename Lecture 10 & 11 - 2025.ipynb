{
 "cells": [
  {
   "cell_type": "code",
   "execution_count": 1,
   "metadata": {},
   "outputs": [],
   "source": [
    "%matplotlib inline   \n",
    "                     # this sets up matplotlib to make plots show up in the notebook\n",
    "import numpy as np   # imports the numpy package, abbreviated as np\n",
    "import matplotlib    # imports the matplotlib package for making plots\n",
    "import matplotlib.pyplot as plt    # imports the part of matplotlib we use most,\n",
    "                                   #abbreviated as plt\n",
    "import scipy.stats as stats\n",
    "import astropy.stats as astats\n",
    "import numpy.random as random"
   ]
  },
  {
   "cell_type": "markdown",
   "metadata": {},
   "source": [
    "# Results when averaging data together"
   ]
  },
  {
   "cell_type": "code",
   "execution_count": 2,
   "metadata": {},
   "outputs": [],
   "source": [
    "nsims=int(1E5)\n",
    "navg=100\n",
    "data=random.randn(nsims,navg)\n",
    "\n",
    "# average each set of navg values\n",
    "means=np.mean(data,axis=1)"
   ]
  },
  {
   "cell_type": "markdown",
   "metadata": {},
   "source": [
    "- Using the below code block, __plot a histogram of the distribution of the means from each simulation, with binsize 0.01, over the range from -2 to +2 (what should you set the `bins` and `range` keywords to be for that?)__\n",
    "\n",
    "- __Determine the standard deviation of the array of means.__"
   ]
  },
  {
   "cell_type": "code",
   "execution_count": null,
   "metadata": {},
   "outputs": [],
   "source": [
    "# done in lecture 9 notebook"
   ]
  },
  {
   "cell_type": "markdown",
   "metadata": {},
   "source": [
    "- Now, in the same code box, also __create a second set of simulations with `navg` = 9.  Plot the histogram of averaging the results from these simulations on top of the histogram for averaging 100 measurements, and calculate the standard deviation of the new array of means.__\n",
    "\n",
    "\n",
    "\n",
    "- __Discuss with your group: How do you explain the differences between the results (both qualitatively and quantitatively)? How does the scatter of the means scale with `navg`?__"
   ]
  },
  {
   "cell_type": "code",
   "execution_count": null,
   "metadata": {},
   "outputs": [],
   "source": [
    "# done in lecture 9 notebook"
   ]
  },
  {
   "cell_type": "code",
   "execution_count": null,
   "metadata": {},
   "outputs": [],
   "source": [
    "# done in lecture 9 notebook"
   ]
  },
  {
   "cell_type": "markdown",
   "metadata": {},
   "source": [
    "# Determining the Asymptotic Relative Efficiency of the median\n",
    "\n",
    "__Run the code in the below box repeatedly; what is the ratio of standard deviations of the medians vs. the means?__  \n",
    "\n",
    "__Discuss with your group: What does this imply about the sample size needed for the standard deviation of the median to match the standard deviation of the mean?__"
   ]
  },
  {
   "cell_type": "code",
   "execution_count": 3,
   "metadata": {},
   "outputs": [
    {
     "name": "stdout",
     "output_type": "stream",
     "text": [
      "std. dev. of the means: 0.0141\n",
      "std. dev. of the medians: 0.0179\n",
      "ratio of std. devs.: 1.2617\n"
     ]
    }
   ],
   "source": [
    "nsims=int(1E4)\n",
    "navg=int(5E3)\n",
    "data=random.randn(nsims,navg)\n",
    "means=np.mean(data,axis=1)\n",
    "medians=np.median(data,axis=1)\n",
    "\n",
    "print(f'std. dev. of the means: {np.std(means,ddof=1):.4f}')\n",
    "print(f'std. dev. of the medians: {np.std(medians,ddof=1):.4f}')\n",
    "\n",
    "print(f'ratio of std. devs.: {np.std(medians,ddof=1)/ np.std(means,ddof=1):.4f}')"
   ]
  },
  {
   "cell_type": "markdown",
   "metadata": {},
   "source": [
    "# Examples of applying robust statistics\n",
    "\n",
    "For convenience, let's define two functions: `hlmean` and `mode2`."
   ]
  },
  {
   "cell_type": "code",
   "execution_count": 4,
   "metadata": {},
   "outputs": [],
   "source": [
    "\n",
    "def hlmean(data,nsamp=-1):\n",
    "    # PURPOSE:\n",
    "    #\n",
    "    #  Calculate Hodges-Lehmann estimator of mean, using nsamp\n",
    "    #   bootstraps from the data\n",
    "    #\n",
    "    # The Hodges-Lehmann estimator is, formally, the median value of\n",
    "    #  (x_i+x_j)/2 over all pairs of indices i,j .\n",
    "    # Here, we estimate that quantity using nsamp randomly chosen values\n",
    "    # of i & j, rather than using all possible values.\n",
    "    #\n",
    "    # Although it has much of the robustness of an ordinary median, the\n",
    "    # H-L estimator yields much smaller errors (equivalent to the mean of\n",
    "    # >96% as much data, while the median has errors equivalent to the\n",
    "    # standard error of 64% as much data).\n",
    "    #\n",
    "    # CALLING SEQUENCE:\n",
    "    #\n",
    "    #  result=hlmean(data [,nsamp=nsamp])\n",
    "    #\n",
    "    # INPUTS:\n",
    "    #\n",
    "    #  data: array of values to calculate the H-L mean of\n",
    "    #\n",
    "    # OPTIONAL KEYWORD PARAMETERS:\n",
    "    #\n",
    "    #  nsamp= : if set, hlmean will use this number of bootstrap\n",
    "    #  samples to do the calculation.  If not set, it will use a number of random pairs equal to\n",
    "    #  50 times the number of elements of the data array\n",
    "    #\n",
    "    # OUTPUTS:\n",
    "    #\n",
    "    #  result: sampling-derived estimate of the H-L mean estimator\n",
    "    #\n",
    "    # EXAMPLE:\n",
    "    #    test=[1,2,0,1,2,20.]\n",
    "    #    print hlmean(test)\n",
    "    \n",
    "    ndata=len(data)\n",
    "    \n",
    "    # if the number of samples has not been provided, set it to 50*the size of the data array\n",
    "    \n",
    "    if nsamp < 0:\n",
    "        nsamp=50.*ndata\n",
    "    nsamp=int(nsamp)\n",
    "\n",
    "# create resampled version of original data\n",
    "    newdata = np.random.choice(data,size=(nsamp,2))\n",
    "    \n",
    "    # average x1 + x2 from each random draw\n",
    "    mn = (newdata[:,0]+newdata[:,1])/2.\n",
    "    \n",
    "    # calculate the median of the averages \n",
    "    # this is HL estimator \n",
    "    return(np.median(mn))\n"
   ]
  },
  {
   "cell_type": "code",
   "execution_count": 5,
   "metadata": {},
   "outputs": [],
   "source": [
    "def mode2(data,**kwargs):\n",
    "# note: provide bins and (optionally) range keywords to not use\n",
    "# defaults of np.histogram (10 bins, full range)\n",
    "    counts,edges=np.histogram(data,**kwargs)\n",
    "    whmax=np.argmax(counts)\n",
    "    mode=(edges[whmax]+edges[whmax+1])/2\n",
    "    return(mode)"
   ]
  },
  {
   "cell_type": "markdown",
   "metadata": {},
   "source": [
    "## Trying different statistics for location\n",
    "\n",
    "Now, let's generate $10^5$ values from a standard normal distribution, and compare various statistics for the location of the sample.  __What value do you expect here?  Which statistics come closest? Compare results with your neighbors!__"
   ]
  },
  {
   "cell_type": "code",
   "execution_count": 11,
   "metadata": {},
   "outputs": [],
   "source": [
    "ndata=int(1E5)\n",
    "data=random.randn(ndata)\n"
   ]
  },
  {
   "cell_type": "code",
   "execution_count": null,
   "metadata": {},
   "outputs": [
    {
     "name": "stdout",
     "output_type": "stream",
     "text": [
      "Mean: 0.0003\n",
      "Median: 0.0012\n",
      "Mode: 0.0650\n",
      "H-L mean: 0.0007\n",
      "\n",
      "10% Trimmed mean: 0.0005\n",
      "Sigma-clipped: -0.0006\n",
      "\n",
      "Winsorized: 0.0003\n",
      "Biweight: 0.0005\n"
     ]
    }
   ],
   "source": [
    "print(f'Mean: {data.mean():.4f}')\n",
    "print(f'Median: {np.median(data):.4f}')\n",
    "print(f'Mode: {mode2(data,bins=np.linspace(-10,10,2001)):.4f}')\n",
    "print(f'H-L mean: {hlmean(data):.4f}')\n",
    "print()\n",
    "\n",
    "limits=np.percentile(data,(10,90))\n",
    "print(f'10% Trimmed mean: {stats.tmean(data,limits=limits):.4f}')\n",
    "\n",
    "clipped_data,low_threshold,high_threshold =  \\\n",
    "    stats.sigmaclip(data,low=3.,high=3.)\n",
    "\n",
    "print(f'Sigma-clipped: {np.mean(clipped_data):.4f}')\n",
    "\n",
    "print()\n",
    "winsor_data = stats.mstats.winsorize(data,limits=(.1,.1))\n",
    "print(f'Winsorized: {np.mean(winsor_data):.4f}')\n",
    "print(f'Biweight: {astats.biweight_location(data):.4f}')"
   ]
  },
  {
   "cell_type": "markdown",
   "metadata": {},
   "source": [
    "## Trying different statistics for scale\n",
    "\n",
    "Now, let's generate $10^5$ values from a standard normal distribution, and compare various statistics for the scale (e.g., standard deviation) of the sample.  __What value do you expect here?  Which statistics come closest? Compare results with your group!__"
   ]
  },
  {
   "cell_type": "code",
   "execution_count": 13,
   "metadata": {},
   "outputs": [],
   "source": [
    "ndata=int(5E5)\n",
    "data=random.randn(ndata)"
   ]
  },
  {
   "cell_type": "code",
   "execution_count": 14,
   "metadata": {},
   "outputs": [
    {
     "name": "stdout",
     "output_type": "stream",
     "text": [
      "Standard deviation: 1.0007\n",
      "Normalized Mean Absolute Deviation: 1.00128\n",
      "Normalized Median Absolute Deviation: 1.00358\n",
      "Normalized IQR: 1.00368\n",
      "\n",
      "10% Trimmed Standard Deviation: 0.6632\n",
      "Norm. 10% Trimmed Standard Deviation: 1.0015\n",
      "\n",
      "Winsorized standard deviation: 0.8253\n",
      "Norm. Winsorized standard deviation: 0.9986\n",
      "\n",
      "Sigma-clipped standard deviation: 0.9857\n",
      "Norm. Sigma-clipped standard deviation: 1.0005\n",
      "\n",
      "Biweight standard deviation: 1.0104\n",
      "Norm. Biweight standard deviation: 1.0003\n"
     ]
    }
   ],
   "source": [
    "# note the need for correction factors to get estimates\n",
    "# of the Gaussian sigma!\n",
    "\n",
    "# the standard...\n",
    "print(f'Standard deviation: {data.std():.4f}')\n",
    "\n",
    "# average absolute deviation\n",
    "normavgabsdev = np.mean(np.abs(data-data.mean()))/0.7979\n",
    "print(f'Normalized Mean Absolute Deviation: {normavgabsdev:.5f}')\n",
    "\n",
    "# median absolute deviation\n",
    "# we coded this by hand before, but it's also available in scipy.stats\n",
    "# including option to scale to sigma equivalent\n",
    "normmad = stats.median_abs_deviation(data,scale='normal')\n",
    "print(f'Normalized Median Absolute Deviation: {normmad:.5f}')\n",
    "\n",
    "# IQR\n",
    "# we did this with np.percentile before, \n",
    "# but it's also available in scipy.stats\n",
    "# including option to scale to sigma equivalent\n",
    "normiqr = stats.iqr(data,scale='normal')\n",
    "print(f'Normalized IQR: {normiqr:.5f}')\n",
    "\n",
    "print()\n",
    "\n",
    "# 10% Trimmed standard deviation\n",
    "# Note: here and below, the scale factors for normalization were determined\n",
    "# just by calculating statistics for samples with very large N\n",
    "limits=np.percentile(data,(10,90))\n",
    "print(f'10% Trimmed Standard Deviation: {stats.tstd(data,limits=limits):.4f}')\n",
    "print(f'Norm. 10% Trimmed Standard Deviation: {stats.tstd(data,limits=limits)*1.51:.4f}')\n",
    "print()\n",
    "\n",
    "\n",
    "# 10% winsorized standard deviation\n",
    "winsor_data = stats.mstats.winsorize(data,limits=(.1,.1))\n",
    "print(f'Winsorized standard deviation: {np.std(winsor_data):.4f}')\n",
    "print(f'Norm. Winsorized standard deviation: {np.std(winsor_data)*1.21:.4f}')\n",
    "print()\n",
    "\n",
    "# note that the scale factor needed is smaller if we winsorize rather than trim\n",
    "\n",
    "\n",
    "# 3-sigma-clipped standard deviation\n",
    "clipped_data,low_threshold,high_threshold = stats.sigmaclip(data,low=3.,high=3.)\n",
    "\n",
    "print(f'Sigma-clipped standard deviation: {np.std(clipped_data):.4f}')\n",
    "print(f'Norm. Sigma-clipped standard deviation: {np.std(clipped_data)*1.015:.4f}')\n",
    "print()\n",
    "\n",
    "\n",
    "\n",
    "# biweight standard deviation\n",
    "print(f'Biweight standard deviation: {np.sqrt(astats.biweight_midvariance(data)):.4f}')\n",
    "print(f'Norm. Biweight standard deviation: {np.sqrt(astats.biweight_midvariance(data))*0.99:.4f}')\n",
    "\n",
    "\n"
   ]
  },
  {
   "cell_type": "markdown",
   "metadata": {},
   "source": [
    "# Doing a more complicated Monte Carlo\n",
    "\n",
    "Consider a mixture of two Gaussians: a fraction  $(1-f_{outlier})$  of objects are distributed as $N(3150,930^2)$, and a fraction $f_{outlier}$ are distributed as $N(4750,200^2)$.  We can implement this by randomly selecting objects as outliers with probability $f_{outlier}$, and assigning random values according to whether they are an outlier or not."
   ]
  },
  {
   "cell_type": "code",
   "execution_count": 10,
   "metadata": {},
   "outputs": [],
   "source": [
    "nsims=int(5E4)\n",
    "ndata=100\n",
    "foutlier=0.1\n",
    "\n",
    "isoutlier=random.rand(nsims,ndata) < foutlier\n",
    "\n",
    "fakedata=(1-isoutlier)*(random.randn(nsims,ndata)*930.+3150) \\\n",
    "+ (isoutlier)*(random.randn(nsims,ndata)*200.+4750)"
   ]
  },
  {
   "cell_type": "markdown",
   "metadata": {},
   "source": [
    "__In the code box below, plot a histogram of the full set of fake data; and then choose one single simulation and plot the histogram for it. Use a bin size of 100 km/s.__  \n",
    "\n",
    "__Note__: To plot histograms of a multi-dimensional array, use `np.ravel(arrayname)`, not just `arrayname`, in the call to `plt.hist`.  That routine causes Python to treat the array as one-dimensional.  "
   ]
  },
  {
   "cell_type": "code",
   "execution_count": 25,
   "metadata": {},
   "outputs": [
    {
     "data": {
      "text/plain": [
       "(array([0.    , 0.    , 0.    , 0.    , 0.    , 0.    , 0.    , 0.    ,\n",
       "        0.    , 0.    , 0.    , 0.    , 0.    , 0.    , 0.    , 0.    ,\n",
       "        0.    , 0.    , 0.    , 0.    , 0.    , 0.    , 0.    , 0.    ,\n",
       "        0.    , 0.    , 0.    , 0.    , 0.    , 0.    , 0.    , 0.0001,\n",
       "        0.0002, 0.0002, 0.    , 0.0001, 0.    , 0.0001, 0.0004, 0.0003,\n",
       "        0.    , 0.0002, 0.0006, 0.0001, 0.0004, 0.0003, 0.0001, 0.0004,\n",
       "        0.0001, 0.0002, 0.0002, 0.0006, 0.0004, 0.0004, 0.0004, 0.0002,\n",
       "        0.0005, 0.0007, 0.0002, 0.0002, 0.    , 0.0003, 0.0001, 0.0002,\n",
       "        0.0003, 0.0002, 0.0001, 0.0002, 0.0004, 0.0002, 0.0002, 0.    ,\n",
       "        0.    , 0.0002, 0.    , 0.    , 0.    , 0.    , 0.    , 0.    ,\n",
       "        0.    , 0.    , 0.    , 0.    , 0.    , 0.    , 0.    , 0.    ,\n",
       "        0.    , 0.    , 0.    , 0.    , 0.    , 0.    , 0.    , 0.    ,\n",
       "        0.    , 0.    , 0.    ]),\n",
       " array([-2000., -1900., -1800., -1700., -1600., -1500., -1400., -1300.,\n",
       "        -1200., -1100., -1000.,  -900.,  -800.,  -700.,  -600.,  -500.,\n",
       "         -400.,  -300.,  -200.,  -100.,     0.,   100.,   200.,   300.,\n",
       "          400.,   500.,   600.,   700.,   800.,   900.,  1000.,  1100.,\n",
       "         1200.,  1300.,  1400.,  1500.,  1600.,  1700.,  1800.,  1900.,\n",
       "         2000.,  2100.,  2200.,  2300.,  2400.,  2500.,  2600.,  2700.,\n",
       "         2800.,  2900.,  3000.,  3100.,  3200.,  3300.,  3400.,  3500.,\n",
       "         3600.,  3700.,  3800.,  3900.,  4000.,  4100.,  4200.,  4300.,\n",
       "         4400.,  4500.,  4600.,  4700.,  4800.,  4900.,  5000.,  5100.,\n",
       "         5200.,  5300.,  5400.,  5500.,  5600.,  5700.,  5800.,  5900.,\n",
       "         6000.,  6100.,  6200.,  6300.,  6400.,  6500.,  6600.,  6700.,\n",
       "         6800.,  6900.,  7000.,  7100.,  7200.,  7300.,  7400.,  7500.,\n",
       "         7600.,  7700.,  7800.,  7900.]),\n",
       " <BarContainer object of 99 artists>)"
      ]
     },
     "execution_count": 25,
     "metadata": {},
     "output_type": "execute_result"
    },
    {
     "data": {
      "image/png": "[encoded data removed]",
      "text/plain": [
       "<Figure size 640x480 with 1 Axes>"
      ]
     },
     "metadata": {},
     "output_type": "display_data"
    }
   ],
   "source": [
    "plt.hist(np.ravel(fakedata),bins=np.linspace(-2000,8000,100),density=True)\n",
    "plt.hist(np.ravel(fakedata[3,:]),bins=np.arange(-2000,8000,100),alpha=0.5,label='one single simulation',density=True)"
   ]
  },
  {
   "cell_type": "markdown",
   "metadata": {},
   "source": [
    "# Interpreting error estimates\n",
    "\n",
    "Frequentist statistics focuses on what will be observed, given an assumed truth.  Let's consider two possible interpretations:\n",
    "\n",
    "- 68.3% of the time we do an experiment like this, the true mean will lie between $m-\\hat{\\sigma_{<x>}}$ and $m+\\hat{\\sigma_{<x>}}$, where $m$ is the observed mean and $\\hat{\\sigma_{<x>}}$ is the sample standard deviation of the mean determined from the data, as $\\sigma_x \\over \\sqrt{n}$; or\n",
    "- 68.3% of the time we do an experiment like this, the true mean will lie between $m-{\\sigma_{<x>}}$ and $m+{\\sigma_{<x>}}$, where $\\sigma_{{<x>}}$ is the standard error we would calculate with perfect knowledge of the distribution, as $\\sigma \\over \\sqrt{n}$.\n",
    "\n",
    "Let's test this out with simulations of measuring the mean of 10 or 100 measurements drawn from $N(0,1)$."
   ]
  },
  {
   "cell_type": "code",
   "execution_count": 27,
   "metadata": {},
   "outputs": [],
   "source": [
    "# simulating averaging 10 measurements, 100_000 times\n",
    "nsims=int(1E5)\n",
    "ndata=10\n",
    "data=random.randn(nsims,ndata) \n",
    "\n",
    "means = np.mean(data,axis = 1)  # mean of each set of 10 measurements\n",
    "sample_std=np.std(data,axis = 1)    # standard deviation of each set of 10 measurements. \n",
    "# Note that the axis= keyword works with np.std! Do ?np.std for details.\n",
    "\n",
    "# sample standard errors determined from each random dataset\n",
    "sample_serr=sample_std/np.sqrt(ndata) \n",
    "\n",
    "# standard error calculated knowing the actual distribution has sigma=1\n",
    "true_serr=1/np.sqrt(ndata)        "
   ]
  },
  {
   "cell_type": "markdown",
   "metadata": {},
   "source": [
    "__Using the below code box, plot the histograms of `means` and `sample_std` (as separate figures).  Are they both Normally distributed (Gaussian)?__\n"
   ]
  },
  {
   "cell_type": "code",
   "execution_count": 30,
   "metadata": {},
   "outputs": [
    {
     "data": {
      "text/plain": [
       "(array([0.000e+00, 0.000e+00, 0.000e+00, 0.000e+00, 1.000e+00, 1.000e+00,\n",
       "        0.000e+00, 2.000e+00, 2.000e+00, 3.000e+00, 2.000e+00, 6.000e+00,\n",
       "        6.000e+00, 1.600e+01, 2.100e+01, 1.300e+01, 1.600e+01, 3.200e+01,\n",
       "        3.800e+01, 5.200e+01, 9.500e+01, 1.090e+02, 1.410e+02, 1.930e+02,\n",
       "        2.310e+02, 2.760e+02, 3.490e+02, 4.200e+02, 4.670e+02, 5.690e+02,\n",
       "        7.000e+02, 8.540e+02, 1.012e+03, 1.223e+03, 1.393e+03, 1.580e+03,\n",
       "        1.819e+03, 1.986e+03, 2.169e+03, 2.371e+03, 2.621e+03, 2.863e+03,\n",
       "        2.976e+03, 3.245e+03, 3.542e+03, 3.476e+03, 3.703e+03, 3.768e+03,\n",
       "        3.724e+03, 3.736e+03, 3.858e+03, 3.659e+03, 3.677e+03, 3.531e+03,\n",
       "        3.516e+03, 3.277e+03, 3.000e+03, 2.845e+03, 2.699e+03, 2.395e+03,\n",
       "        2.162e+03, 1.902e+03, 1.702e+03, 1.591e+03, 1.330e+03, 1.258e+03,\n",
       "        1.058e+03, 9.120e+02, 7.340e+02, 5.940e+02, 4.970e+02, 4.040e+02,\n",
       "        3.500e+02, 2.710e+02, 2.610e+02, 1.690e+02, 1.220e+02, 9.400e+01,\n",
       "        7.300e+01, 6.100e+01, 5.200e+01, 4.800e+01, 2.200e+01, 1.900e+01,\n",
       "        7.000e+00, 6.000e+00, 4.000e+00, 6.000e+00, 5.000e+00, 2.000e+00,\n",
       "        2.000e+00, 1.000e+00, 0.000e+00, 2.000e+00, 0.000e+00, 0.000e+00,\n",
       "        0.000e+00, 0.000e+00, 0.000e+00]),\n",
       " array([-1.5       , -1.46969697, -1.43939394, -1.40909091, -1.37878788,\n",
       "        -1.34848485, -1.31818182, -1.28787879, -1.25757576, -1.22727273,\n",
       "        -1.1969697 , -1.16666667, -1.13636364, -1.10606061, -1.07575758,\n",
       "        -1.04545455, -1.01515152, -0.98484848, -0.95454545, -0.92424242,\n",
       "        -0.89393939, -0.86363636, -0.83333333, -0.8030303 , -0.77272727,\n",
       "        -0.74242424, -0.71212121, -0.68181818, -0.65151515, -0.62121212,\n",
       "        -0.59090909, -0.56060606, -0.53030303, -0.5       , -0.46969697,\n",
       "        -0.43939394, -0.40909091, -0.37878788, -0.34848485, -0.31818182,\n",
       "        -0.28787879, -0.25757576, -0.22727273, -0.1969697 , -0.16666667,\n",
       "        -0.13636364, -0.10606061, -0.07575758, -0.04545455, -0.01515152,\n",
       "         0.01515152,  0.04545455,  0.07575758,  0.10606061,  0.13636364,\n",
       "         0.16666667,  0.1969697 ,  0.22727273,  0.25757576,  0.28787879,\n",
       "         0.31818182,  0.34848485,  0.37878788,  0.40909091,  0.43939394,\n",
       "         0.46969697,  0.5       ,  0.53030303,  0.56060606,  0.59090909,\n",
       "         0.62121212,  0.65151515,  0.68181818,  0.71212121,  0.74242424,\n",
       "         0.77272727,  0.8030303 ,  0.83333333,  0.86363636,  0.89393939,\n",
       "         0.92424242,  0.95454545,  0.98484848,  1.01515152,  1.04545455,\n",
       "         1.07575758,  1.10606061,  1.13636364,  1.16666667,  1.1969697 ,\n",
       "         1.22727273,  1.25757576,  1.28787879,  1.31818182,  1.34848485,\n",
       "         1.37878788,  1.40909091,  1.43939394,  1.46969697,  1.5       ]),\n",
       " <BarContainer object of 99 artists>)"
      ]
     },
     "execution_count": 30,
     "metadata": {},
     "output_type": "execute_result"
    },
    {
     "data": {
      "image/png": "[encoded data removed]",
      "text/plain": [
       "<Figure size 640x480 with 1 Axes>"
      ]
     },
     "metadata": {},
     "output_type": "display_data"
    }
   ],
   "source": [
    "plt.hist(means,bins=np.linspace(-1.5,1.5,100))"
   ]
  },
  {
   "cell_type": "code",
   "execution_count": 31,
   "metadata": {},
   "outputs": [
    {
     "data": {
      "text/plain": [
       "(array([0.000e+00, 0.000e+00, 0.000e+00, 0.000e+00, 0.000e+00, 0.000e+00,\n",
       "        0.000e+00, 0.000e+00, 1.000e+00, 1.000e+00, 0.000e+00, 3.000e+00,\n",
       "        7.000e+00, 1.400e+01, 2.200e+01, 1.900e+01, 5.500e+01, 8.200e+01,\n",
       "        1.010e+02, 1.230e+02, 1.810e+02, 2.440e+02, 3.270e+02, 4.180e+02,\n",
       "        5.290e+02, 6.240e+02, 7.610e+02, 8.960e+02, 1.078e+03, 1.311e+03,\n",
       "        1.492e+03, 1.751e+03, 2.030e+03, 2.194e+03, 2.461e+03, 2.587e+03,\n",
       "        2.890e+03, 3.095e+03, 3.089e+03, 3.274e+03, 3.415e+03, 3.496e+03,\n",
       "        3.561e+03, 3.478e+03, 3.592e+03, 3.633e+03, 3.574e+03, 3.544e+03,\n",
       "        3.407e+03, 3.263e+03, 3.117e+03, 2.974e+03, 2.795e+03, 2.535e+03,\n",
       "        2.378e+03, 2.297e+03, 2.036e+03, 1.902e+03, 1.738e+03, 1.636e+03,\n",
       "        1.292e+03, 1.310e+03, 1.081e+03, 9.700e+02, 8.340e+02, 7.080e+02,\n",
       "        6.100e+02, 5.380e+02, 4.420e+02, 3.890e+02, 3.430e+02, 2.610e+02,\n",
       "        2.240e+02, 1.900e+02, 1.540e+02, 1.290e+02, 1.060e+02, 7.000e+01,\n",
       "        6.900e+01, 5.500e+01, 4.000e+01, 3.500e+01, 3.500e+01, 1.900e+01,\n",
       "        1.200e+01, 1.200e+01, 1.200e+01, 4.000e+00, 2.000e+00, 2.000e+00,\n",
       "        3.000e+00, 5.000e+00, 3.000e+00, 5.000e+00, 2.000e+00, 1.000e+00,\n",
       "        0.000e+00, 1.000e+00, 0.000e+00]),\n",
       " array([0.        , 0.02020202, 0.04040404, 0.06060606, 0.08080808,\n",
       "        0.1010101 , 0.12121212, 0.14141414, 0.16161616, 0.18181818,\n",
       "        0.2020202 , 0.22222222, 0.24242424, 0.26262626, 0.28282828,\n",
       "        0.3030303 , 0.32323232, 0.34343434, 0.36363636, 0.38383838,\n",
       "        0.4040404 , 0.42424242, 0.44444444, 0.46464646, 0.48484848,\n",
       "        0.50505051, 0.52525253, 0.54545455, 0.56565657, 0.58585859,\n",
       "        0.60606061, 0.62626263, 0.64646465, 0.66666667, 0.68686869,\n",
       "        0.70707071, 0.72727273, 0.74747475, 0.76767677, 0.78787879,\n",
       "        0.80808081, 0.82828283, 0.84848485, 0.86868687, 0.88888889,\n",
       "        0.90909091, 0.92929293, 0.94949495, 0.96969697, 0.98989899,\n",
       "        1.01010101, 1.03030303, 1.05050505, 1.07070707, 1.09090909,\n",
       "        1.11111111, 1.13131313, 1.15151515, 1.17171717, 1.19191919,\n",
       "        1.21212121, 1.23232323, 1.25252525, 1.27272727, 1.29292929,\n",
       "        1.31313131, 1.33333333, 1.35353535, 1.37373737, 1.39393939,\n",
       "        1.41414141, 1.43434343, 1.45454545, 1.47474747, 1.49494949,\n",
       "        1.51515152, 1.53535354, 1.55555556, 1.57575758, 1.5959596 ,\n",
       "        1.61616162, 1.63636364, 1.65656566, 1.67676768, 1.6969697 ,\n",
       "        1.71717172, 1.73737374, 1.75757576, 1.77777778, 1.7979798 ,\n",
       "        1.81818182, 1.83838384, 1.85858586, 1.87878788, 1.8989899 ,\n",
       "        1.91919192, 1.93939394, 1.95959596, 1.97979798, 2.        ]),\n",
       " <BarContainer object of 99 artists>)"
      ]
     },
     "execution_count": 31,
     "metadata": {},
     "output_type": "execute_result"
    },
    {
     "data": {
      "image/png": "[encoded data removed]",
      "text/plain": [
       "<Figure size 640x480 with 1 Axes>"
      ]
     },
     "metadata": {},
     "output_type": "display_data"
    }
   ],
   "source": [
    "plt.hist(sample_std, bins=np.linspace(0,2,100))"
   ]
  },
  {
   "cell_type": "markdown",
   "metadata": {},
   "source": [
    "__In the below code box, write code to determine:__\n",
    "\n",
    "\n",
    "- What fraction of the time when we do an experiment like this does the true mean lie between `means-sample_serr` and `means+sample_serr`?\n",
    "\n",
    "- What fraction of the times when we do an experiment like this does the true mean lie between `means-true_serr` and `means+true_serr`?\n",
    "\n",
    "Recall: 68.3% of the time a normally-distributed value will be within 1 sigma of the mean.  __Which matches this?__"
   ]
  },
  {
   "cell_type": "code",
   "execution_count": 43,
   "metadata": {},
   "outputs": [
    {
     "data": {
      "text/plain": [
       "array([0.23348137, 0.09676072, 0.29513974, ..., 0.07237407, 0.11403035,\n",
       "       0.21863192], shape=(100000,))"
      ]
     },
     "execution_count": 43,
     "metadata": {},
     "output_type": "execute_result"
    }
   ],
   "source": [
    "means + sample_serr"
   ]
  },
  {
   "cell_type": "code",
   "execution_count": 44,
   "metadata": {},
   "outputs": [
    {
     "data": {
      "text/plain": [
       "array([ 0.03103967, -0.09331576,  0.08890477, ..., -0.11383395,\n",
       "       -0.08476084,  0.04109028], shape=(100000,))"
      ]
     },
     "execution_count": 44,
     "metadata": {},
     "output_type": "execute_result"
    }
   ],
   "source": [
    "means - sample_serr"
   ]
  },
  {
   "cell_type": "code",
   "execution_count": 49,
   "metadata": {},
   "outputs": [
    {
     "name": "stdout",
     "output_type": "stream",
     "text": [
      "0.67844\n"
     ]
    }
   ],
   "source": [
    "print(np.sum(np.where(np.logical_and(( 0 < means + sample_serr),( 0 > means - sample_serr)),1,0))/nsims)\n"
   ]
  },
  {
   "cell_type": "code",
   "execution_count": 51,
   "metadata": {},
   "outputs": [
    {
     "name": "stdout",
     "output_type": "stream",
     "text": [
      "0.68257\n"
     ]
    }
   ],
   "source": [
    "print(np.sum(np.where(np.logical_and(( 0 < means + true_serr),( 0 > means - true_serr)),1,0))/nsims)"
   ]
  },
  {
   "cell_type": "code",
   "execution_count": 52,
   "metadata": {},
   "outputs": [
    {
     "name": "stdout",
     "output_type": "stream",
     "text": [
      "0.68257\n"
     ]
    }
   ],
   "source": [
    "print(np.sum(np.logical_and(( 0 < means + true_serr),( 0 > means - true_serr)))/nsims) "
   ]
  },
  {
   "cell_type": "code",
   "execution_count": null,
   "metadata": {},
   "outputs": [],
   "source": [
    "# the true standard deviation matched this "
   ]
  },
  {
   "cell_type": "code",
   "execution_count": 54,
   "metadata": {},
   "outputs": [],
   "source": [
    "# Now, do the same for simulations of averaging 100 measurements\n",
    "\n",
    "nsims=int(1E5)\n",
    "ndata=100\n",
    "data=random.randn(nsims,ndata)   \n",
    "means = np.mean(data,axis = 1)  # mean of each set of 10 measurements\n",
    "sample_std=np.std(data,axis = 1)    # standard deviation of each set of 10 measurements. \n",
    "# Note that the axis= keyword works with np.std! Do ?np.std for details.\n",
    "\n",
    "# sample standard errors determined from each random dataset\n",
    "sample_serr=sample_std/np.sqrt(ndata) \n",
    "\n",
    "# standard error calculated knowing the actual distribution\n",
    "true_serr=1/np.sqrt(ndata)        "
   ]
  },
  {
   "cell_type": "code",
   "execution_count": 55,
   "metadata": {},
   "outputs": [
    {
     "data": {
      "text/plain": [
       "(array([0.000e+00, 0.000e+00, 2.000e+00, 4.000e+00, 3.000e+00, 7.000e+00,\n",
       "        9.000e+00, 1.400e+01, 1.300e+01, 1.500e+01, 1.700e+01, 2.200e+01,\n",
       "        4.300e+01, 4.100e+01, 6.500e+01, 7.100e+01, 7.900e+01, 1.200e+02,\n",
       "        1.440e+02, 1.500e+02, 2.250e+02, 2.750e+02, 2.960e+02, 3.470e+02,\n",
       "        4.060e+02, 5.100e+02, 6.090e+02, 6.410e+02, 7.660e+02, 8.930e+02,\n",
       "        9.510e+02, 1.115e+03, 1.284e+03, 1.414e+03, 1.565e+03, 1.711e+03,\n",
       "        1.902e+03, 2.013e+03, 2.198e+03, 2.299e+03, 2.475e+03, 2.554e+03,\n",
       "        2.799e+03, 2.897e+03, 3.039e+03, 3.053e+03, 3.027e+03, 3.241e+03,\n",
       "        3.054e+03, 3.318e+03, 3.261e+03, 3.159e+03, 3.096e+03, 3.059e+03,\n",
       "        2.964e+03, 2.827e+03, 2.658e+03, 2.627e+03, 2.505e+03, 2.314e+03,\n",
       "        2.130e+03, 1.992e+03, 1.857e+03, 1.714e+03, 1.545e+03, 1.367e+03,\n",
       "        1.287e+03, 1.103e+03, 9.780e+02, 8.410e+02, 7.690e+02, 6.690e+02,\n",
       "        5.830e+02, 5.170e+02, 4.240e+02, 3.490e+02, 3.150e+02, 2.360e+02,\n",
       "        2.330e+02, 1.870e+02, 1.310e+02, 1.270e+02, 9.400e+01, 7.700e+01,\n",
       "        5.700e+01, 5.700e+01, 3.100e+01, 3.500e+01, 3.400e+01, 1.800e+01,\n",
       "        2.000e+01, 1.500e+01, 1.100e+01, 7.000e+00, 5.000e+00, 8.000e+00,\n",
       "        2.000e+00, 2.000e+00, 1.000e+00]),\n",
       " array([-0.4       , -0.39191919, -0.38383838, -0.37575758, -0.36767677,\n",
       "        -0.35959596, -0.35151515, -0.34343434, -0.33535354, -0.32727273,\n",
       "        -0.31919192, -0.31111111, -0.3030303 , -0.29494949, -0.28686869,\n",
       "        -0.27878788, -0.27070707, -0.26262626, -0.25454545, -0.24646465,\n",
       "        -0.23838384, -0.23030303, -0.22222222, -0.21414141, -0.20606061,\n",
       "        -0.1979798 , -0.18989899, -0.18181818, -0.17373737, -0.16565657,\n",
       "        -0.15757576, -0.14949495, -0.14141414, -0.13333333, -0.12525253,\n",
       "        -0.11717172, -0.10909091, -0.1010101 , -0.09292929, -0.08484848,\n",
       "        -0.07676768, -0.06868687, -0.06060606, -0.05252525, -0.04444444,\n",
       "        -0.03636364, -0.02828283, -0.02020202, -0.01212121, -0.0040404 ,\n",
       "         0.0040404 ,  0.01212121,  0.02020202,  0.02828283,  0.03636364,\n",
       "         0.04444444,  0.05252525,  0.06060606,  0.06868687,  0.07676768,\n",
       "         0.08484848,  0.09292929,  0.1010101 ,  0.10909091,  0.11717172,\n",
       "         0.12525253,  0.13333333,  0.14141414,  0.14949495,  0.15757576,\n",
       "         0.16565657,  0.17373737,  0.18181818,  0.18989899,  0.1979798 ,\n",
       "         0.20606061,  0.21414141,  0.22222222,  0.23030303,  0.23838384,\n",
       "         0.24646465,  0.25454545,  0.26262626,  0.27070707,  0.27878788,\n",
       "         0.28686869,  0.29494949,  0.3030303 ,  0.31111111,  0.31919192,\n",
       "         0.32727273,  0.33535354,  0.34343434,  0.35151515,  0.35959596,\n",
       "         0.36767677,  0.37575758,  0.38383838,  0.39191919,  0.4       ]),\n",
       " <BarContainer object of 99 artists>)"
      ]
     },
     "execution_count": 55,
     "metadata": {},
     "output_type": "execute_result"
    },
    {
     "data": {
      "image/png": "[encoded data removed]",
      "text/plain": [
       "<Figure size 640x480 with 1 Axes>"
      ]
     },
     "metadata": {},
     "output_type": "display_data"
    }
   ],
   "source": [
    "plt.hist(means, bins = np.linspace(-0.4,0.4,100))"
   ]
  },
  {
   "cell_type": "code",
   "execution_count": 56,
   "metadata": {},
   "outputs": [
    {
     "data": {
      "text/plain": [
       "(array([0.000e+00, 1.000e+00, 2.000e+00, 3.000e+00, 5.000e+00, 1.000e+00,\n",
       "        5.000e+00, 6.000e+00, 1.400e+01, 1.800e+01, 3.200e+01, 4.100e+01,\n",
       "        6.700e+01, 7.900e+01, 8.500e+01, 1.150e+02, 1.480e+02, 2.020e+02,\n",
       "        2.510e+02, 3.370e+02, 4.150e+02, 5.610e+02, 7.100e+02, 8.090e+02,\n",
       "        1.007e+03, 1.189e+03, 1.337e+03, 1.521e+03, 1.749e+03, 1.969e+03,\n",
       "        2.188e+03, 2.619e+03, 2.885e+03, 2.962e+03, 3.248e+03, 3.374e+03,\n",
       "        3.583e+03, 3.789e+03, 3.799e+03, 3.970e+03, 4.113e+03, 3.985e+03,\n",
       "        3.876e+03, 3.742e+03, 3.791e+03, 3.578e+03, 3.464e+03, 3.227e+03,\n",
       "        3.012e+03, 2.777e+03, 2.622e+03, 2.308e+03, 2.096e+03, 1.979e+03,\n",
       "        1.651e+03, 1.380e+03, 1.222e+03, 1.098e+03, 9.300e+02, 7.710e+02,\n",
       "        6.800e+02, 5.280e+02, 4.500e+02, 3.590e+02, 2.620e+02, 2.120e+02,\n",
       "        1.860e+02, 1.690e+02, 1.060e+02, 8.400e+01, 5.700e+01, 5.400e+01,\n",
       "        4.000e+01, 2.600e+01, 2.200e+01, 1.700e+01, 6.000e+00, 7.000e+00,\n",
       "        4.000e+00, 3.000e+00, 3.000e+00, 2.000e+00, 2.000e+00, 1.000e+00,\n",
       "        0.000e+00, 1.000e+00, 0.000e+00, 0.000e+00, 0.000e+00, 0.000e+00,\n",
       "        0.000e+00, 0.000e+00, 0.000e+00, 0.000e+00, 0.000e+00, 0.000e+00,\n",
       "        0.000e+00, 0.000e+00, 0.000e+00]),\n",
       " array([0.7       , 0.70707071, 0.71414141, 0.72121212, 0.72828283,\n",
       "        0.73535354, 0.74242424, 0.74949495, 0.75656566, 0.76363636,\n",
       "        0.77070707, 0.77777778, 0.78484848, 0.79191919, 0.7989899 ,\n",
       "        0.80606061, 0.81313131, 0.82020202, 0.82727273, 0.83434343,\n",
       "        0.84141414, 0.84848485, 0.85555556, 0.86262626, 0.86969697,\n",
       "        0.87676768, 0.88383838, 0.89090909, 0.8979798 , 0.90505051,\n",
       "        0.91212121, 0.91919192, 0.92626263, 0.93333333, 0.94040404,\n",
       "        0.94747475, 0.95454545, 0.96161616, 0.96868687, 0.97575758,\n",
       "        0.98282828, 0.98989899, 0.9969697 , 1.0040404 , 1.01111111,\n",
       "        1.01818182, 1.02525253, 1.03232323, 1.03939394, 1.04646465,\n",
       "        1.05353535, 1.06060606, 1.06767677, 1.07474747, 1.08181818,\n",
       "        1.08888889, 1.0959596 , 1.1030303 , 1.11010101, 1.11717172,\n",
       "        1.12424242, 1.13131313, 1.13838384, 1.14545455, 1.15252525,\n",
       "        1.15959596, 1.16666667, 1.17373737, 1.18080808, 1.18787879,\n",
       "        1.19494949, 1.2020202 , 1.20909091, 1.21616162, 1.22323232,\n",
       "        1.23030303, 1.23737374, 1.24444444, 1.25151515, 1.25858586,\n",
       "        1.26565657, 1.27272727, 1.27979798, 1.28686869, 1.29393939,\n",
       "        1.3010101 , 1.30808081, 1.31515152, 1.32222222, 1.32929293,\n",
       "        1.33636364, 1.34343434, 1.35050505, 1.35757576, 1.36464646,\n",
       "        1.37171717, 1.37878788, 1.38585859, 1.39292929, 1.4       ]),\n",
       " <BarContainer object of 99 artists>)"
      ]
     },
     "execution_count": 56,
     "metadata": {},
     "output_type": "execute_result"
    },
    {
     "data": {
      "image/png": "[encoded data removed]",
      "text/plain": [
       "<Figure size 640x480 with 1 Axes>"
      ]
     },
     "metadata": {},
     "output_type": "display_data"
    }
   ],
   "source": [
    "plt.hist(sample_std, bins = np.linspace(0.7,1.4,100))"
   ]
  },
  {
   "cell_type": "code",
   "execution_count": 57,
   "metadata": {},
   "outputs": [
    {
     "name": "stdout",
     "output_type": "stream",
     "text": [
      "0.6762\n"
     ]
    }
   ],
   "source": [
    "print(np.sum(np.where(np.logical_and(( 0 < means + sample_serr),( 0 > means - sample_serr)),1,0))/nsims)"
   ]
  },
  {
   "cell_type": "code",
   "execution_count": 58,
   "metadata": {},
   "outputs": [
    {
     "name": "stdout",
     "output_type": "stream",
     "text": [
      "0.68069\n"
     ]
    }
   ],
   "source": [
    "print(np.sum(np.where(np.logical_and(( 0 < means + true_serr),( 0 > means - true_serr)),1,0))/nsims)"
   ]
  },
  {
   "cell_type": "markdown",
   "metadata": {},
   "source": [
    "# Calculating proper confidence intervals\n",
    "\n",
    "We can use the `cdf` method of an object from the `stats.t` class to calculate how much probability we expect to lie between `means-sample_serr` and `means+sample_serr`, for the two scenarios we looked at (10 data points = 9 degrees of freedom, 100 = 99 DOF).  __Compare to the results from your Monte Carlo simulations.__"
   ]
  },
  {
   "cell_type": "code",
   "execution_count": 59,
   "metadata": {},
   "outputs": [
    {
     "name": "stdout",
     "output_type": "stream",
     "text": [
      "0.6565636038620863\n",
      "0.6802515258606983\n"
     ]
    }
   ],
   "source": [
    "print(stats.t.cdf(1.,9)-stats.t.cdf(-1.,9))\n",
    "print(stats.t.cdf(1.,99)-stats.t.cdf(-1.,99))"
   ]
  },
  {
   "cell_type": "markdown",
   "metadata": {},
   "source": [
    "We can use the `ppf` method of an object from the `stats.t` class to calculate the $t$ value such that the CDF is 0.8413 (i.e., the upper edge of a 68.3% confidence interval).  Because the t distribution is symmetric, the lower edge will just be opposite  in sign but have the same absolute value.  __Let's calculate these cutoffs and test that the resulting intervals in fact contain 68.3% of the probability:__"
   ]
  },
  {
   "cell_type": "code",
   "execution_count": 60,
   "metadata": {},
   "outputs": [
    {
     "name": "stdout",
     "output_type": "stream",
     "text": [
      "9  DOF: Cutoff value: 1.0585\n",
      "        Probability contained: 0.6826\n",
      "99 DOF: Cutoff value: 1.0049\n",
      "        Probability contained: 0.6826\n"
     ]
    }
   ],
   "source": [
    "cutoff9 = stats.t.ppf(0.8413,9)\n",
    "cutoff99 = stats.t.ppf(0.8413,99)\n",
    "\n",
    "print(f'9  DOF: Cutoff value: {cutoff9:.4f}')\n",
    "print(f'        Probability contained: {stats.t.cdf(cutoff9,9)-stats.t.cdf(-cutoff9,9):.4f}')\n",
    "print(f'99 DOF: Cutoff value: {cutoff99:.4f}')\n",
    "print(f'        Probability contained: {stats.t.cdf(cutoff99,99)-stats.t.cdf(-cutoff99,99):.4f}')"
   ]
  },
  {
   "cell_type": "markdown",
   "metadata": {},
   "source": [
    "How much difference does the difference between a $t$ distribution and a Gaussian make, as a function of the amount of data we have and which confidence interval we are looking at?  __Evaluate how close the cutoffs are to those for a Gaussian distribution, as a function of the number of degrees of freedom, for 68%, 95%, and 99% confidence intervals.__"
   ]
  },
  {
   "cell_type": "code",
   "execution_count": 61,
   "metadata": {},
   "outputs": [
    {
     "name": "stdout",
     "output_type": "stream",
     "text": [
      "68% range limits:\n",
      "DOF:  2   -1.83672, 1.836722\n",
      "DOF:  4   -1.19662, 1.196616\n",
      "DOF:  6   -1.11028, 1.110278\n",
      "DOF:  8   -1.07650, 1.076499\n",
      "DOF: 10   -1.05852, 1.058520\n",
      "DOF: 12   -1.04736, 1.047365\n",
      "DOF: 14   -1.03977, 1.039769\n",
      "DOF: 16   -1.03427, 1.034265\n",
      "DOF: 18   -1.03009, 1.030093\n",
      "\n",
      "95% range:\n",
      "DOF:  2   -12.70620, 12.706205\n",
      "DOF:  4   -3.18245, 3.182446\n",
      "DOF:  6   -2.57058, 2.570582\n",
      "DOF:  8   -2.36462, 2.364624\n",
      "DOF: 10   -2.26216, 2.262157\n",
      "DOF: 12   -2.20099, 2.200985\n",
      "DOF: 14   -2.16037, 2.160369\n",
      "DOF: 16   -2.13145, 2.131450\n",
      "DOF: 18   -2.10982, 2.109816\n",
      "\n",
      "99% range:\n",
      "DOF:  2   -63.65674, 63.656741\n",
      "DOF:  4   -5.84091, 5.840909\n",
      "DOF:  6   -4.03214, 4.032143\n",
      "DOF:  8   -3.49948, 3.499483\n",
      "DOF: 10   -3.24984, 3.249836\n",
      "DOF: 12   -3.10581, 3.105807\n",
      "DOF: 14   -3.01228, 3.012276\n",
      "DOF: 16   -2.94671, 2.946713\n",
      "DOF: 18   -2.89823, 2.898231\n",
      "\n",
      " large N limits (=cutoffs for a Gaussian distribution):\n",
      "68%: 0.99982\n",
      "95%: 1.95996\n",
      "99%: 2.57583\n"
     ]
    }
   ],
   "source": [
    "print('68% range limits:')\n",
    "\n",
    "for i in np.arange(2,20,2): \n",
    "    print(f'DOF: {i:2d}   {stats.t.ppf(0.1587,i-1):.5f}, {stats.t.ppf(0.8413,i-1):5f}')\n",
    "    \n",
    "print('\\n95% range:')\n",
    "\n",
    "for i in np.arange(2,20,2): \n",
    "    print(f'DOF: {i:2d}   {stats.t.ppf(0.025,i-1):.5f}, {stats.t.ppf(0.975,i-1):5f}')\n",
    "    \n",
    "    \n",
    "print('\\n99% range:')\n",
    "    \n",
    "for i in np.arange(2,20,2): \n",
    "    print(f'DOF: {i:2d}   {stats.t.ppf(0.005,i-1):.5f}, {stats.t.ppf(0.995,i-1):5f}')\n",
    "          \n",
    "print('\\n large N limits (=cutoffs for a Gaussian distribution):' )\n",
    "print(f'68%: {stats.t.ppf(1-0.1587,1E7):.5f}')\n",
    "print(f'95%: {stats.t.ppf(1-0.025,1E7):.5f}')\n",
    "print(f'99%: {stats.t.ppf(1-0.005,1E7):.5f}')"
   ]
  },
  {
   "cell_type": "markdown",
   "metadata": {},
   "source": [
    "# If you have extra time\n",
    "\n",
    "- Explore the effect that the number of samples has on the accuracy of `hlmean`.  If you use ndata, 10 $\\times$ ndata, 25 $\\times$ data, or 100 $\\times$ ndata samples, how much does the estimate coming from `hlmean` vary when you rerun it?  You can use e.g. 100 or 1000 values from N(0,1) in testing.\n",
    "\n",
    "- Apply each of the estimators of location (applied above) on a situation where 10% of values are drawn from N(2,1) instead of N(0,1) (using an foutlier parameter as in the clusters example).  Which estimators appear to be most robust?\n",
    "\n"
   ]
  },
  {
   "cell_type": "code",
   "execution_count": null,
   "metadata": {},
   "outputs": [],
   "source": []
  },
  {
   "cell_type": "code",
   "execution_count": null,
   "metadata": {},
   "outputs": [],
   "source": []
  },
  {
   "cell_type": "code",
   "execution_count": null,
   "metadata": {},
   "outputs": [],
   "source": []
  }
 ],
 "metadata": {
  "anaconda-cloud": {},
  "kernelspec": {
   "display_name": "Stats_Python",
   "language": "python",
   "name": "python3"
  },
  "language_info": {
   "codemirror_mode": {
    "name": "ipython",
    "version": 3
   },
   "file_extension": ".py",
   "mimetype": "text/x-python",
   "name": "python",
   "nbconvert_exporter": "python",
   "pygments_lexer": "ipython3",
   "version": "3.13.1"
  }
 },
 "nbformat": 4,
 "nbformat_minor": 1
}
